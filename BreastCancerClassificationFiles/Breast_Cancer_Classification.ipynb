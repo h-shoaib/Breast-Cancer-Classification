{
 "cells": [
  {
   "cell_type": "markdown",
   "id": "4f8dbbf9",
   "metadata": {},
   "source": [
    "# Breast Cancer Prediction"
   ]
  },
  {
   "cell_type": "markdown",
   "id": "3af7659a",
   "metadata": {},
   "source": [
    "<h4> Importing all the necessary libraries </h4>"
   ]
  },
  {
   "cell_type": "code",
   "execution_count": 1,
   "id": "84210963",
   "metadata": {},
   "outputs": [
    {
     "name": "stderr",
     "output_type": "stream",
     "text": [
      "/Library/Frameworks/Python.framework/Versions/3.10/lib/python3.10/site-packages/tqdm/auto.py:21: TqdmWarning: IProgress not found. Please update jupyter and ipywidgets. See https://ipywidgets.readthedocs.io/en/stable/user_install.html\n",
      "  from .autonotebook import tqdm as notebook_tqdm\n"
     ]
    }
   ],
   "source": [
    "import numpy as np\n",
    "import matplotlib.pyplot as plt\n",
    "import pandas as pd\n",
    "from sklearn.datasets import load_breast_cancer\n",
    "from sklearn.model_selection import train_test_split\n",
    "from sklearn import metrics\n",
    "from xgboost import XGBClassifier\n",
    "from sklearn.model_selection import cross_validate\n",
    "from sklearn.ensemble import RandomForestClassifier\n",
    "from sklearn.neighbors import KNeighborsClassifier\n",
    "from sklearn.preprocessing import StandardScaler\n",
    "from sklearn import svm\n",
    "from sklearn.naive_bayes import GaussianNB\n",
    "\n",
    "# Necessary imports for GUI done by using gradio\n",
    "from ucimlrepo import fetch_ucirepo \n",
    "import gradio as gr"
   ]
  },
  {
   "cell_type": "markdown",
   "id": "afa7ebe2",
   "metadata": {},
   "source": [
    "<h4>Importing the data from data.csv into pandas DataFrame</h4>"
   ]
  },
  {
   "cell_type": "code",
   "execution_count": 2,
   "id": "b9912b74",
   "metadata": {},
   "outputs": [],
   "source": [
    "data = pd.read_csv('/Users/haroonshoaib/Developer/Github/BreastCancerClassification/data.csv')"
   ]
  },
  {
   "cell_type": "markdown",
   "id": "665f40f4",
   "metadata": {},
   "source": [
    "<h4>Data Preprocessing</h4>"
   ]
  },
  {
   "cell_type": "code",
   "execution_count": 3,
   "id": "8b27c6cf",
   "metadata": {},
   "outputs": [],
   "source": [
    "data = data.drop(data.columns[0],axis=1)\n",
    "data = data.drop(data.columns[31],axis=1)\n",
    "  \n",
    "data['diagnosis'] = data['diagnosis'].map({'M': 1, 'B': 0})\n",
    "x = data.loc[:, data.columns != 'diagnosis'].values\n",
    "y = data.loc[:, 'diagnosis'].values"
   ]
  },
  {
   "cell_type": "markdown",
   "id": "52977a1f",
   "metadata": {},
   "source": [
    "<h4>Scaling the Data using StandardScalar library</h4>"
   ]
  },
  {
   "cell_type": "code",
   "execution_count": 4,
   "id": "a8e4abe2",
   "metadata": {},
   "outputs": [],
   "source": [
    "sc_X = StandardScaler()\n",
    "X = sc_X.fit_transform(x)"
   ]
  },
  {
   "cell_type": "markdown",
   "id": "156261ef",
   "metadata": {},
   "source": [
    "<h4>Initialising all the classifiers</h4>"
   ]
  },
  {
   "cell_type": "code",
   "execution_count": 5,
   "id": "1f76b0c5",
   "metadata": {},
   "outputs": [],
   "source": [
    "knn_cl = KNeighborsClassifier(n_neighbors=23, p=2, metric='euclidean')\n",
    "model = XGBClassifier(use_label_encoder=False, eval_metric='mlogloss')\n",
    "clf = RandomForestClassifier(max_depth=2, random_state=0)\n",
    "svm_cl = svm.SVC(kernel='rbf', gamma='auto', C=2)\n",
    "nb_cl = GaussianNB()"
   ]
  },
  {
   "cell_type": "markdown",
   "id": "08f2fa59",
   "metadata": {},
   "source": [
    "<h4>Cross Validation (5 folds)</h4>"
   ]
  },
  {
   "cell_type": "code",
   "execution_count": 6,
   "id": "519ff418",
   "metadata": {},
   "outputs": [],
   "source": [
    "scoring = ['accuracy','precision','f1','recall']\n",
    "scores1 = cross_validate(model, X, y, scoring=scoring)\n",
    "scores2 = cross_validate(clf, X, y, scoring=scoring)\n",
    "scores3 = cross_validate(knn_cl, X, y, scoring=scoring)\n",
    "scores4 = cross_validate(svm_cl, X, y, scoring=scoring)\n",
    "scores5 = cross_validate(nb_cl, X, y, scoring=scoring)"
   ]
  },
  {
   "cell_type": "markdown",
   "id": "5e8236ef",
   "metadata": {},
   "source": [
    "<h4>Fitting the dataset to the model</h4>"
   ]
  },
  {
   "cell_type": "code",
   "execution_count": 7,
   "id": "762344fd",
   "metadata": {},
   "outputs": [
    {
     "data": {
      "text/html": [
       "<style>#sk-container-id-1 {color: black;}#sk-container-id-1 pre{padding: 0;}#sk-container-id-1 div.sk-toggleable {background-color: white;}#sk-container-id-1 label.sk-toggleable__label {cursor: pointer;display: block;width: 100%;margin-bottom: 0;padding: 0.3em;box-sizing: border-box;text-align: center;}#sk-container-id-1 label.sk-toggleable__label-arrow:before {content: \"▸\";float: left;margin-right: 0.25em;color: #696969;}#sk-container-id-1 label.sk-toggleable__label-arrow:hover:before {color: black;}#sk-container-id-1 div.sk-estimator:hover label.sk-toggleable__label-arrow:before {color: black;}#sk-container-id-1 div.sk-toggleable__content {max-height: 0;max-width: 0;overflow: hidden;text-align: left;background-color: #f0f8ff;}#sk-container-id-1 div.sk-toggleable__content pre {margin: 0.2em;color: black;border-radius: 0.25em;background-color: #f0f8ff;}#sk-container-id-1 input.sk-toggleable__control:checked~div.sk-toggleable__content {max-height: 200px;max-width: 100%;overflow: auto;}#sk-container-id-1 input.sk-toggleable__control:checked~label.sk-toggleable__label-arrow:before {content: \"▾\";}#sk-container-id-1 div.sk-estimator input.sk-toggleable__control:checked~label.sk-toggleable__label {background-color: #d4ebff;}#sk-container-id-1 div.sk-label input.sk-toggleable__control:checked~label.sk-toggleable__label {background-color: #d4ebff;}#sk-container-id-1 input.sk-hidden--visually {border: 0;clip: rect(1px 1px 1px 1px);clip: rect(1px, 1px, 1px, 1px);height: 1px;margin: -1px;overflow: hidden;padding: 0;position: absolute;width: 1px;}#sk-container-id-1 div.sk-estimator {font-family: monospace;background-color: #f0f8ff;border: 1px dotted black;border-radius: 0.25em;box-sizing: border-box;margin-bottom: 0.5em;}#sk-container-id-1 div.sk-estimator:hover {background-color: #d4ebff;}#sk-container-id-1 div.sk-parallel-item::after {content: \"\";width: 100%;border-bottom: 1px solid gray;flex-grow: 1;}#sk-container-id-1 div.sk-label:hover label.sk-toggleable__label {background-color: #d4ebff;}#sk-container-id-1 div.sk-serial::before {content: \"\";position: absolute;border-left: 1px solid gray;box-sizing: border-box;top: 0;bottom: 0;left: 50%;z-index: 0;}#sk-container-id-1 div.sk-serial {display: flex;flex-direction: column;align-items: center;background-color: white;padding-right: 0.2em;padding-left: 0.2em;position: relative;}#sk-container-id-1 div.sk-item {position: relative;z-index: 1;}#sk-container-id-1 div.sk-parallel {display: flex;align-items: stretch;justify-content: center;background-color: white;position: relative;}#sk-container-id-1 div.sk-item::before, #sk-container-id-1 div.sk-parallel-item::before {content: \"\";position: absolute;border-left: 1px solid gray;box-sizing: border-box;top: 0;bottom: 0;left: 50%;z-index: -1;}#sk-container-id-1 div.sk-parallel-item {display: flex;flex-direction: column;z-index: 1;position: relative;background-color: white;}#sk-container-id-1 div.sk-parallel-item:first-child::after {align-self: flex-end;width: 50%;}#sk-container-id-1 div.sk-parallel-item:last-child::after {align-self: flex-start;width: 50%;}#sk-container-id-1 div.sk-parallel-item:only-child::after {width: 0;}#sk-container-id-1 div.sk-dashed-wrapped {border: 1px dashed gray;margin: 0 0.4em 0.5em 0.4em;box-sizing: border-box;padding-bottom: 0.4em;background-color: white;}#sk-container-id-1 div.sk-label label {font-family: monospace;font-weight: bold;display: inline-block;line-height: 1.2em;}#sk-container-id-1 div.sk-label-container {text-align: center;}#sk-container-id-1 div.sk-container {/* jupyter's `normalize.less` sets `[hidden] { display: none; }` but bootstrap.min.css set `[hidden] { display: none !important; }` so we also need the `!important` here to be able to override the default hidden behavior on the sphinx rendered scikit-learn.org. See: https://github.com/scikit-learn/scikit-learn/issues/21755 */display: inline-block !important;position: relative;}#sk-container-id-1 div.sk-text-repr-fallback {display: none;}</style><div id=\"sk-container-id-1\" class=\"sk-top-container\"><div class=\"sk-text-repr-fallback\"><pre>GaussianNB()</pre><b>In a Jupyter environment, please rerun this cell to show the HTML representation or trust the notebook. <br />On GitHub, the HTML representation is unable to render, please try loading this page with nbviewer.org.</b></div><div class=\"sk-container\" hidden><div class=\"sk-item\"><div class=\"sk-estimator sk-toggleable\"><input class=\"sk-toggleable__control sk-hidden--visually\" id=\"sk-estimator-id-1\" type=\"checkbox\" checked><label for=\"sk-estimator-id-1\" class=\"sk-toggleable__label sk-toggleable__label-arrow\">GaussianNB</label><div class=\"sk-toggleable__content\"><pre>GaussianNB()</pre></div></div></div></div></div>"
      ],
      "text/plain": [
       "GaussianNB()"
      ]
     },
     "execution_count": 7,
     "metadata": {},
     "output_type": "execute_result"
    }
   ],
   "source": [
    "model.fit(X, y)\n",
    "clf.fit(X,y)\n",
    "knn_cl.fit(X, y)\n",
    "svm_cl.fit(X, y)\n",
    "nb_cl.fit(X, y)"
   ]
  },
  {
   "cell_type": "markdown",
   "id": "30333ecc",
   "metadata": {},
   "source": [
    "<h4>Calculation of evaluation metrics</h4>"
   ]
  },
  {
   "cell_type": "code",
   "execution_count": 8,
   "id": "64d1cf1c",
   "metadata": {},
   "outputs": [],
   "source": [
    "label_arr = ['XGB','RF','KNN','SVM','NB']\n",
    "acc_arr = [round(scores1['test_accuracy'].mean(),3),round(scores2['test_accuracy'].mean(),3),round(scores3['test_accuracy'].mean(),3),\n",
    "           round(scores4['test_accuracy'].mean(),3),round(scores5['test_accuracy'].mean(),3)]\n",
    "prec_arr = [round(scores1['test_precision'].mean(),3),round(scores2['test_precision'].mean(),3),round(scores3['test_precision'].mean(),3),\n",
    "           round(scores4['test_precision'].mean(),3),round(scores5['test_precision'].mean(),3)]\n",
    "f1_arr = [round(scores1['test_f1'].mean(),3),round(scores2['test_f1'].mean(),3),round(scores3['test_f1'].mean(),3),\n",
    "           round(scores4['test_f1'].mean(),3),round(scores5['test_f1'].mean(),3)]\n",
    "rec_arr = [round(scores1['test_recall'].mean(),3),round(scores2['test_recall'].mean(),3),round(scores3['test_recall'].mean(),3),\n",
    "           round(scores4['test_recall'].mean(),3),round(scores5['test_recall'].mean(),3)]"
   ]
  },
  {
   "cell_type": "markdown",
   "id": "a20956ee",
   "metadata": {},
   "source": [
    "<h4>Printing accuracy values for each model</h4>"
   ]
  },
  {
   "cell_type": "code",
   "execution_count": 9,
   "id": "cda0ef8e",
   "metadata": {},
   "outputs": [
    {
     "name": "stdout",
     "output_type": "stream",
     "text": [
      "0.9701288619779538\n",
      "\n",
      "\n",
      "0.9490607048594939\n",
      "\n",
      "\n",
      "0.9543393882937432\n",
      "\n",
      "\n",
      "0.9754075454122031\n",
      "\n",
      "\n",
      "0.927930445582984\n",
      "\n",
      "\n"
     ]
    }
   ],
   "source": [
    "print(scores1['test_accuracy'].mean())\n",
    "print(\"\\n\")\n",
    "print(scores2['test_accuracy'].mean())\n",
    "print(\"\\n\")\n",
    "print(scores3['test_accuracy'].mean())\n",
    "print(\"\\n\")\n",
    "print(scores4['test_accuracy'].mean())\n",
    "print(\"\\n\")\n",
    "print(scores5['test_accuracy'].mean())\n",
    "print(\"\\n\")"
   ]
  },
  {
   "cell_type": "markdown",
   "id": "e994d104",
   "metadata": {},
   "source": [
    "# GUI"
   ]
  },
  {
   "cell_type": "markdown",
   "id": "146cf4b9",
   "metadata": {},
   "source": [
    "<h4>DECLARING FUNCTION FOR GRAPH</h4>"
   ]
  },
  {
   "cell_type": "code",
   "execution_count": 10,
   "id": "9bf3ecff",
   "metadata": {},
   "outputs": [],
   "source": [
    "def make_plot(plot_type):\n",
    "    labels = list(label_arr)\n",
    "    if plot_type == \"Accuracy\":\n",
    "        values = list(acc_arr)\n",
    "    \n",
    "        plt.bar(labels, values, color ='yellow', \n",
    "                width = 0.7)\n",
    "        for i in range(len(labels)):\n",
    "            plt.text(i,values[i]/2,values[i],ha = 'center')\n",
    "        plt.xlabel(\"MODEL\")\n",
    "        plt.ylabel(\"Accuracy\")\n",
    "        plt.title(\"Accuracy of different models\")\n",
    "        plt.show()\n",
    "    elif plot_type == \"Precision\":\n",
    "        values = list(prec_arr)\n",
    "        plt.bar(labels, values, color ='yellow', \n",
    "                width = 0.7)\n",
    "        for i in range(len(labels)):\n",
    "            plt.text(i,values[i]/2,values[i],ha = 'center')\n",
    "        plt.xlabel(\"MODEL\")\n",
    "        plt.ylabel(\"Precision\")\n",
    "        plt.title(\"Precision of different models\")\n",
    "        plt.show()\n",
    "    elif plot_type == \"F1\":\n",
    "        values = list(f1_arr)\n",
    "        plt.bar(labels, values, color ='yellow', \n",
    "                width = 0.7)\n",
    "        for i in range(len(labels)):\n",
    "            plt.text(i,values[i]/2,values[i],ha = 'center')\n",
    "        plt.xlabel(\"MODEL\")\n",
    "        plt.ylabel(\"F1 score\")\n",
    "        plt.title(\"F1 score of different models\")\n",
    "        plt.show()\n",
    "    elif plot_type == \"Recall\":\n",
    "        values = list(rec_arr)\n",
    "        plt.bar(labels, values, color ='yellow', \n",
    "                width = 0.7)\n",
    "        for i in range(len(labels)):\n",
    "            plt.text(i,values[i]/2,values[i],ha = 'center')\n",
    "        plt.xlabel(\"MODEL\")\n",
    "        plt.ylabel(\"F1 score\")\n",
    "        plt.title(\"F1 score of different models\")\n",
    "        plt.show()\n",
    "    return plt"
   ]
  },
  {
   "cell_type": "markdown",
   "id": "98b1b579",
   "metadata": {},
   "source": [
    "<h4>DECLARING FUNCTION FOR PREDICTION</h4>"
   ]
  },
  {
   "cell_type": "code",
   "execution_count": 11,
   "id": "c60badaf",
   "metadata": {},
   "outputs": [],
   "source": [
    "def calc_xgb(radius_mean,texture_mean,perimeter_mean,area_mean,smoothness_mean,compactness_mean,concavity_mean,concave_points_mean,\n",
    "        symmetry_mean,fractal_dimension_mean,radius_se,texture_se,perimeter_se,area_se,smoothness_se,compactness_se,concavity_se,\n",
    "         concave_points_se,symmetry_se,fractal_dimension_se,radius_worst,texture_worst,perimeter_worst,area_worst,smoothness_worst,\n",
    "         compactness_worst,concavity_worst,concave_points_worst,symmetry_worst,fractal_dimension_worst):\n",
    "    x_arr = [radius_mean,texture_mean,perimeter_mean,area_mean,smoothness_mean,compactness_mean,concavity_mean,concave_points_mean,\n",
    "        symmetry_mean,fractal_dimension_mean,radius_se,texture_se,perimeter_se,area_se,smoothness_se,compactness_se,concavity_se,\n",
    "         concave_points_se,symmetry_se,fractal_dimension_se,radius_worst,texture_worst,perimeter_worst,area_worst,smoothness_worst,\n",
    "         compactness_worst,concavity_worst,concave_points_worst,symmetry_worst,fractal_dimension_worst]\n",
    "    pred = svm_cl.predict(np.array(x_arr).reshape(1,30))\n",
    "    if pred[0] == 1:\n",
    "        return 'Malignant Tumor'\n",
    "    else:\n",
    "        return 'Benign Tumor'"
   ]
  },
  {
   "cell_type": "markdown",
   "id": "302d0eef",
   "metadata": {},
   "source": [
    "<h4>PREDICTION AND GRAPH TAB</h4>"
   ]
  },
  {
   "cell_type": "code",
   "execution_count": 12,
   "id": "d73b9fff",
   "metadata": {},
   "outputs": [
    {
     "name": "stdout",
     "output_type": "stream",
     "text": [
      "Running on local URL:  http://127.0.0.1:7861\n",
      "\n",
      "To create a public link, set `share=True` in `launch()`.\n"
     ]
    },
    {
     "data": {
      "text/html": [
       "<div><iframe src=\"http://127.0.0.1:7861/\" width=\"100%\" height=\"500\" allow=\"autoplay; camera; microphone; clipboard-read; clipboard-write;\" frameborder=\"0\" allowfullscreen></iframe></div>"
      ],
      "text/plain": [
       "<IPython.core.display.HTML object>"
      ]
     },
     "metadata": {},
     "output_type": "display_data"
    },
    {
     "data": {
      "text/plain": []
     },
     "execution_count": 12,
     "metadata": {},
     "output_type": "execute_result"
    },
    {
     "name": "stdout",
     "output_type": "stream",
     "text": [
      "IMPORTANT: You are using gradio version 4.7.1, however version 4.29.0 is available, please upgrade.\n",
      "--------\n"
     ]
    },
    {
     "name": "stderr",
     "output_type": "stream",
     "text": [
      "/var/folders/jz/8whpz2zs37q1p5kkvz1_nktr0000gn/T/ipykernel_38140/733033100.py:13: UserWarning: FigureCanvasAgg is non-interactive, and thus cannot be shown\n",
      "  plt.show()\n",
      "/var/folders/jz/8whpz2zs37q1p5kkvz1_nktr0000gn/T/ipykernel_38140/733033100.py:23: UserWarning: FigureCanvasAgg is non-interactive, and thus cannot be shown\n",
      "  plt.show()\n",
      "/var/folders/jz/8whpz2zs37q1p5kkvz1_nktr0000gn/T/ipykernel_38140/733033100.py:33: UserWarning: FigureCanvasAgg is non-interactive, and thus cannot be shown\n",
      "  plt.show()\n",
      "/var/folders/jz/8whpz2zs37q1p5kkvz1_nktr0000gn/T/ipykernel_38140/733033100.py:43: UserWarning: FigureCanvasAgg is non-interactive, and thus cannot be shown\n",
      "  plt.show()\n"
     ]
    }
   ],
   "source": [
    "with gr.Blocks() as demo:\n",
    "    gr.Markdown(\"CHECK IF BREAST TUMOR IS MALIGNANT OR BENIGN\")\n",
    "    with gr.Tab(\"SVM\"):\n",
    "        with gr.Row():\n",
    "            radius_mean=gr.Number(label=\"Radius Mean(μm)\" )\n",
    "            radius_se=gr.Number(label=\"Radius SE (μm)\" )\n",
    "            radius_worst=gr.Number(label=\"Radius Worst (μm)\" )\n",
    "            \n",
    "        with gr.Row():\n",
    "            texture_mean=gr.Number(label=\"Texture Mean (nm) \" )\n",
    "            texture_se=gr.Number(label=\"Texture SE (nm) \" )\n",
    "            texture_worst=gr.Number(label=\"Texture Worst (nm) \" )\n",
    "        \n",
    "        with gr.Row():\n",
    "            perimeter_mean=gr.Number(label=\"Perimeter Mean (μm)\" )\n",
    "            perimeter_se=gr.Number(label=\"Perimeter SE (μm)\" )\n",
    "            perimeter_worst=gr.Number(label=\"Perimeter Worst (μm)\" )\n",
    "        with gr.Row():\n",
    "            area_mean=gr.Number(label=\"Area Mean (sq.μm)\" )\n",
    "            area_se=gr.Number(label=\"Area SE (sq.μm)\" )\n",
    "            area_worst=gr.Number(label=\"Area Worst (sq.μm)\" )\n",
    "\n",
    "        with gr.Row():\n",
    "            smoothness_mean=gr.Number(label=\"Smoothness Mean (nm)\" )\n",
    "            smoothness_se=gr.Number(label=\"Smoothness SE (nm)\")\n",
    "            smoothness_worst=gr.Number(label=\"Smoothness Worst (nm)\")\n",
    "        with gr.Row():\n",
    "            compactness_mean=gr.Number(label=\"Compactness Mean (nm)\")\n",
    "            compactness_se=gr.Number(label=\"Compactness SE (nm)\")\n",
    "            compactness_worst=gr.Number(label=\"Compactness Worst (nm)\")\n",
    "\n",
    "        with gr.Row():\n",
    "            concavity_mean=gr.Number(label=\"Concavity Mean \" )\n",
    "            concavity_se=gr.Number(label=\"Concavity SE \" )\n",
    "            concavity_worst=gr.Number(label=\"Concavity Worst \" )\n",
    "        with gr.Row():\n",
    "            concave_points_mean=gr.Number(label=\"Concave Points Mean \" )\n",
    "            concave_points_se=gr.Number(label=\"Concave Points SE \" )\n",
    "            concave_points_worst=gr.Number(label=\"Concave Points Worst \" )\n",
    "\n",
    "        with gr.Row():\n",
    "            symmetry_mean=gr.Number(label=\"Symmetry Mean\" )\n",
    "            symmetry_se=gr.Number(label=\"Symmetry SE\" )\n",
    "            symmetry_worst=gr.Number(label=\"Symmetry Worst\" )\n",
    "        with gr.Row():\n",
    "            fractal_dimension_mean=gr.Number(label=\"Fractal Dimension Mean\" )\n",
    "            fractal_dimension_se=gr.Number(label=\"Fractal Dimension SE\" )\n",
    "            fractal_dimension_worst=gr.Number(label=\"Fractal Dimension Worst\" )\n",
    "        \n",
    "        text_output = gr.Textbox(label='Prediction')\n",
    "        \n",
    "        xgb_button = gr.Button(\"Predict\")\n",
    "\n",
    "    with gr.Tab(\"Graph\"):\n",
    "        #dim=gr.Number(label=\"Hmdxx Min\", info=\"Choose between -50 and 50\")\n",
    "        \n",
    "        plot = gr.Plot(label=\"Plot\")\n",
    "        button = gr.Radio(label=\"Metric\",\n",
    "                      choices=['Accuracy', 'Precision', 'F1','Recall'], value='scatter_plot')\n",
    "        #plot = gr.Plot(label=\"Plot\")\n",
    "        button.change(make_plot, inputs=button, outputs=[plot])\n",
    "        #graph_button.click(make_plot,inputs = [m,y],outputs=[plot])\n",
    "        #demo.load(make_plot,outputs=[plot])\n",
    "\n",
    "    xgb_button.click(calc_xgb, inputs=[radius_mean,texture_mean,perimeter_mean,area_mean,smoothness_mean,compactness_mean,concavity_mean,concave_points_mean,\n",
    "        symmetry_mean,fractal_dimension_mean,radius_se,texture_se,perimeter_se,area_se,smoothness_se,compactness_se,concavity_se,\n",
    "         concave_points_se,symmetry_se,fractal_dimension_se,radius_worst,texture_worst,perimeter_worst,area_worst,smoothness_worst,\n",
    "         compactness_worst,concavity_worst,concave_points_worst,symmetry_worst,fractal_dimension_worst], outputs=text_output)\n",
    "    #disp_button.click(r_square,  outputs=[xgb_output,rf_output,svr_output,mlr_output,lr_output,a,b,c,d,e,aa,bb,cc,dd,ee,aaa,bbb,ccc,ddd,eee])\n",
    "\n",
    "demo.launch()"
   ]
  },
  {
   "cell_type": "code",
   "execution_count": null,
   "id": "fc0f2ce8-b63e-4363-bcfb-d8b54610f242",
   "metadata": {},
   "outputs": [],
   "source": []
  }
 ],
 "metadata": {
  "kernelspec": {
   "display_name": "Python 3 (ipykernel)",
   "language": "python",
   "name": "python3"
  },
  "language_info": {
   "codemirror_mode": {
    "name": "ipython",
    "version": 3
   },
   "file_extension": ".py",
   "mimetype": "text/x-python",
   "name": "python",
   "nbconvert_exporter": "python",
   "pygments_lexer": "ipython3",
   "version": "3.10.10"
  }
 },
 "nbformat": 4,
 "nbformat_minor": 5
}
